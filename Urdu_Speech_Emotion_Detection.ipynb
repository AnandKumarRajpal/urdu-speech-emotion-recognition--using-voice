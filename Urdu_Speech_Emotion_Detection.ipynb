{
  "cells": [
    {
      "cell_type": "markdown",
      "metadata": {
        "id": "kJ1peGaRIXjG"
      },
      "source": [
        "# Urdu Speech Emotion Detection using ANN\n",
        "## Group Members\n",
        "- Anand Kumar | ak05173\n",
        "- Ghani Haider | gh05177\n",
        "- Salman Muhammad Younus | sy04351\n",
        "\n",
        "colab link : https://colab.research.google.com/drive/1QSPqYhSrkr6UadBHccM6iSwb3jRBQFvc?usp=sharing"
      ]
    },
    {
      "cell_type": "markdown",
      "metadata": {
        "id": "azEMzE7nJCPo"
      },
      "source": [
        "## Downloading required libraries"
      ]
    },
    {
      "cell_type": "code",
      "execution_count": null,
      "metadata": {
        "colab": {
          "base_uri": "https://localhost:8080/"
        },
        "id": "06-ZZoPuFZUw",
        "outputId": "4a66d711-b98a-4218-f9a8-7f2911dccdc6"
      },
      "outputs": [
        {
          "name": "stdout",
          "output_type": "stream",
          "text": [
            "\u001b[33m\r0% [Working]\u001b[0m\r            \rGet:1 https://cloud.r-project.org/bin/linux/ubuntu bionic-cran40/ InRelease [3,626 B]\n",
            "Ign:2 https://developer.download.nvidia.com/compute/cuda/repos/ubuntu1804/x86_64  InRelease\n",
            "Ign:3 https://developer.download.nvidia.com/compute/machine-learning/repos/ubuntu1804/x86_64  InRelease\n",
            "Get:4 https://developer.download.nvidia.com/compute/cuda/repos/ubuntu1804/x86_64  Release [696 B]\n",
            "Get:5 http://ppa.launchpad.net/c2d4u.team/c2d4u4.0+/ubuntu bionic InRelease [15.9 kB]\n",
            "Hit:6 http://archive.ubuntu.com/ubuntu bionic InRelease\n",
            "Get:7 http://security.ubuntu.com/ubuntu bionic-security InRelease [88.7 kB]\n",
            "Hit:8 https://developer.download.nvidia.com/compute/machine-learning/repos/ubuntu1804/x86_64  Release\n",
            "Get:9 https://developer.download.nvidia.com/compute/cuda/repos/ubuntu1804/x86_64  Release.gpg [836 B]\n",
            "Get:10 https://cloud.r-project.org/bin/linux/ubuntu bionic-cran40/ Packages [73.9 kB]\n",
            "Get:11 http://archive.ubuntu.com/ubuntu bionic-updates InRelease [88.7 kB]\n",
            "Hit:13 http://ppa.launchpad.net/cran/libgit2/ubuntu bionic InRelease\n",
            "Get:14 https://developer.download.nvidia.com/compute/cuda/repos/ubuntu1804/x86_64  Packages [833 kB]\n",
            "Get:15 http://archive.ubuntu.com/ubuntu bionic-backports InRelease [74.6 kB]\n",
            "Get:16 http://ppa.launchpad.net/deadsnakes/ppa/ubuntu bionic InRelease [15.9 kB]\n",
            "Get:17 http://security.ubuntu.com/ubuntu bionic-security/universe amd64 Packages [1,452 kB]\n",
            "Hit:18 http://ppa.launchpad.net/graphics-drivers/ppa/ubuntu bionic InRelease\n",
            "Get:19 http://archive.ubuntu.com/ubuntu bionic-updates/universe amd64 Packages [2,230 kB]\n",
            "Get:20 http://ppa.launchpad.net/c2d4u.team/c2d4u4.0+/ubuntu bionic/main Sources [1,820 kB]\n",
            "Get:21 http://security.ubuntu.com/ubuntu bionic-security/restricted amd64 Packages [691 kB]\n",
            "Get:22 http://security.ubuntu.com/ubuntu bionic-security/main amd64 Packages [2,461 kB]\n",
            "Get:23 http://archive.ubuntu.com/ubuntu bionic-updates/main amd64 Packages [2,898 kB]\n",
            "Get:24 http://archive.ubuntu.com/ubuntu bionic-backports/main amd64 Packages [11.6 kB]\n",
            "Get:25 http://archive.ubuntu.com/ubuntu bionic-backports/universe amd64 Packages [12.6 kB]\n",
            "Get:26 http://ppa.launchpad.net/c2d4u.team/c2d4u4.0+/ubuntu bionic/main amd64 Packages [933 kB]\n",
            "Get:27 http://ppa.launchpad.net/deadsnakes/ppa/ubuntu bionic/main amd64 Packages [45.9 kB]\n",
            "Fetched 13.8 MB in 3s (4,024 kB/s)\n",
            "Reading package lists... Done\n",
            "Building dependency tree       \n",
            "Reading state information... Done\n",
            "79 packages can be upgraded. Run 'apt list --upgradable' to see them.\n"
          ]
        }
      ],
      "source": [
        "!sudo apt update"
      ]
    },
    {
      "cell_type": "code",
      "execution_count": null,
      "metadata": {
        "colab": {
          "base_uri": "https://localhost:8080/"
        },
        "id": "G_uBN6AxFxcy",
        "outputId": "12072728-1ae3-4677-b783-63dcbe233d87"
      },
      "outputs": [
        {
          "name": "stdout",
          "output_type": "stream",
          "text": [
            "Reading package lists... Done\n",
            "Building dependency tree       \n",
            "Reading state information... Done\n",
            "p7zip-full is already the newest version (16.02+dfsg-6).\n",
            "libasound2-dev is already the newest version (1.1.3-5ubuntu0.6).\n",
            "ffmpeg is already the newest version (7:3.4.8-0ubuntu0.2).\n",
            "Suggested packages:\n",
            "  portaudio19-doc python-pyaudio-doc\n",
            "The following NEW packages will be installed:\n",
            "  libportaudio2 libportaudiocpp0 portaudio19-dev python3-pyaudio\n",
            "0 upgraded, 4 newly installed, 0 to remove and 79 not upgraded.\n",
            "Need to get 208 kB of archives.\n",
            "After this operation, 999 kB of additional disk space will be used.\n",
            "Get:1 http://archive.ubuntu.com/ubuntu bionic/universe amd64 libportaudio2 amd64 19.6.0-1 [64.6 kB]\n",
            "Get:2 http://archive.ubuntu.com/ubuntu bionic/universe amd64 libportaudiocpp0 amd64 19.6.0-1 [15.1 kB]\n",
            "Get:3 http://archive.ubuntu.com/ubuntu bionic/universe amd64 portaudio19-dev amd64 19.6.0-1 [104 kB]\n",
            "Get:4 http://archive.ubuntu.com/ubuntu bionic/universe amd64 python3-pyaudio amd64 0.2.11-1build2 [24.2 kB]\n",
            "Fetched 208 kB in 1s (275 kB/s)\n",
            "Selecting previously unselected package libportaudio2:amd64.\n",
            "(Reading database ... 155222 files and directories currently installed.)\n",
            "Preparing to unpack .../libportaudio2_19.6.0-1_amd64.deb ...\n",
            "Unpacking libportaudio2:amd64 (19.6.0-1) ...\n",
            "Selecting previously unselected package libportaudiocpp0:amd64.\n",
            "Preparing to unpack .../libportaudiocpp0_19.6.0-1_amd64.deb ...\n",
            "Unpacking libportaudiocpp0:amd64 (19.6.0-1) ...\n",
            "Selecting previously unselected package portaudio19-dev:amd64.\n",
            "Preparing to unpack .../portaudio19-dev_19.6.0-1_amd64.deb ...\n",
            "Unpacking portaudio19-dev:amd64 (19.6.0-1) ...\n",
            "Selecting previously unselected package python3-pyaudio.\n",
            "Preparing to unpack .../python3-pyaudio_0.2.11-1build2_amd64.deb ...\n",
            "Unpacking python3-pyaudio (0.2.11-1build2) ...\n",
            "Setting up libportaudio2:amd64 (19.6.0-1) ...\n",
            "Setting up python3-pyaudio (0.2.11-1build2) ...\n",
            "Setting up libportaudiocpp0:amd64 (19.6.0-1) ...\n",
            "Setting up portaudio19-dev:amd64 (19.6.0-1) ...\n",
            "Processing triggers for libc-bin (2.27-3ubuntu1.3) ...\n",
            "/sbin/ldconfig.real: /usr/local/lib/python3.7/dist-packages/ideep4py/lib/libmkldnn.so.0 is not a symbolic link\n",
            "\n"
          ]
        }
      ],
      "source": [
        "!apt install libasound2-dev portaudio19-dev libportaudio2 libportaudiocpp0 ffmpeg p7zip-full python3-pyaudio"
      ]
    },
    {
      "cell_type": "code",
      "execution_count": null,
      "metadata": {
        "colab": {
          "base_uri": "https://localhost:8080/"
        },
        "id": "d1u6zQqeEy_Y",
        "outputId": "e52dc224-58e8-4f56-d4ca-2a0b89438a78"
      },
      "outputs": [
        {
          "name": "stdout",
          "output_type": "stream",
          "text": [
            "Requirement already satisfied: librosa in /usr/local/lib/python3.7/dist-packages (0.8.1)\n",
            "Requirement already satisfied: soundfile in /usr/local/lib/python3.7/dist-packages (0.10.3.post1)\n",
            "Requirement already satisfied: numpy in /usr/local/lib/python3.7/dist-packages (1.19.5)\n",
            "Requirement already satisfied: sklearn in /usr/local/lib/python3.7/dist-packages (0.0)\n",
            "Requirement already satisfied: pyaudio in /usr/lib/python3/dist-packages (0.2.11)\n",
            "Requirement already satisfied: scipy>=1.0.0 in /usr/local/lib/python3.7/dist-packages (from librosa) (1.4.1)\n",
            "Requirement already satisfied: audioread>=2.0.0 in /usr/local/lib/python3.7/dist-packages (from librosa) (2.1.9)\n",
            "Requirement already satisfied: scikit-learn!=0.19.0,>=0.14.0 in /usr/local/lib/python3.7/dist-packages (from librosa) (1.0.1)\n",
            "Requirement already satisfied: pooch>=1.0 in /usr/local/lib/python3.7/dist-packages (from librosa) (1.5.2)\n",
            "Requirement already satisfied: packaging>=20.0 in /usr/local/lib/python3.7/dist-packages (from librosa) (21.3)\n",
            "Requirement already satisfied: numba>=0.43.0 in /usr/local/lib/python3.7/dist-packages (from librosa) (0.51.2)\n",
            "Requirement already satisfied: decorator>=3.0.0 in /usr/local/lib/python3.7/dist-packages (from librosa) (4.4.2)\n",
            "Requirement already satisfied: resampy>=0.2.2 in /usr/local/lib/python3.7/dist-packages (from librosa) (0.2.2)\n",
            "Requirement already satisfied: joblib>=0.14 in /usr/local/lib/python3.7/dist-packages (from librosa) (1.1.0)\n",
            "Requirement already satisfied: cffi>=1.0 in /usr/local/lib/python3.7/dist-packages (from soundfile) (1.15.0)\n",
            "Requirement already satisfied: pycparser in /usr/local/lib/python3.7/dist-packages (from cffi>=1.0->soundfile) (2.21)\n",
            "Requirement already satisfied: setuptools in /usr/local/lib/python3.7/dist-packages (from numba>=0.43.0->librosa) (57.4.0)\n",
            "Requirement already satisfied: llvmlite<0.35,>=0.34.0.dev0 in /usr/local/lib/python3.7/dist-packages (from numba>=0.43.0->librosa) (0.34.0)\n",
            "Requirement already satisfied: pyparsing!=3.0.5,>=2.0.2 in /usr/local/lib/python3.7/dist-packages (from packaging>=20.0->librosa) (3.0.6)\n",
            "Requirement already satisfied: appdirs in /usr/local/lib/python3.7/dist-packages (from pooch>=1.0->librosa) (1.4.4)\n",
            "Requirement already satisfied: requests in /usr/local/lib/python3.7/dist-packages (from pooch>=1.0->librosa) (2.23.0)\n",
            "Requirement already satisfied: six>=1.3 in /usr/local/lib/python3.7/dist-packages (from resampy>=0.2.2->librosa) (1.15.0)\n",
            "Requirement already satisfied: threadpoolctl>=2.0.0 in /usr/local/lib/python3.7/dist-packages (from scikit-learn!=0.19.0,>=0.14.0->librosa) (3.0.0)\n",
            "Requirement already satisfied: chardet<4,>=3.0.2 in /usr/local/lib/python3.7/dist-packages (from requests->pooch>=1.0->librosa) (3.0.4)\n",
            "Requirement already satisfied: certifi>=2017.4.17 in /usr/local/lib/python3.7/dist-packages (from requests->pooch>=1.0->librosa) (2021.10.8)\n",
            "Requirement already satisfied: idna<3,>=2.5 in /usr/local/lib/python3.7/dist-packages (from requests->pooch>=1.0->librosa) (2.10)\n",
            "Requirement already satisfied: urllib3!=1.25.0,!=1.25.1,<1.26,>=1.21.1 in /usr/local/lib/python3.7/dist-packages (from requests->pooch>=1.0->librosa) (1.24.3)\n"
          ]
        }
      ],
      "source": [
        "!pip install librosa soundfile numpy sklearn pyaudio"
      ]
    },
    {
      "cell_type": "code",
      "execution_count": null,
      "metadata": {
        "id": "XZyxknL2E7H4"
      },
      "outputs": [],
      "source": [
        "import librosa\n",
        "import soundfile\n",
        "import os, glob, pickle\n",
        "import numpy as np\n",
        "from sklearn.model_selection import train_test_split\n",
        "from sklearn.neural_network import MLPClassifier\n",
        "from sklearn.metrics import accuracy_score"
      ]
    },
    {
      "cell_type": "markdown",
      "metadata": {
        "id": "pjT0YimZJJKB"
      },
      "source": [
        "## Downloading the SEMOUR Dataset"
      ]
    },
    {
      "cell_type": "code",
      "execution_count": 1,
      "metadata": {
        "colab": {
          "base_uri": "https://localhost:8080/"
        },
        "id": "J2KvPM9RHbN_",
        "outputId": "ae5422a3-d179-487a-e5fb-e295b969c587"
      },
      "outputs": [],
      "source": [
        "# We used SEMOUR dataset which is a private dataset. \n",
        "# For more deatails about the dataset visit the following link:\n",
        "# http://acoustics-lab.itu.edu.pk/semour/"
      ]
    },
    {
      "cell_type": "code",
      "execution_count": null,
      "metadata": {
        "id": "erYbhOHwF75z"
      },
      "outputs": [],
      "source": [
        "# Extract features (mfcc, chroma, mel) from a sound file\n",
        "def extract_feature(file_name, mfcc, chroma, mel, axis_=1):\n",
        "  with soundfile.SoundFile(file_name) as sound_file:\n",
        "      X = sound_file.read(dtype=\"float32\")\n",
        "      X = X.mean(axis=axis_)\n",
        "      sample_rate=sound_file.samplerate\n",
        "      if chroma:\n",
        "          stft=np.abs(librosa.stft(X))\n",
        "      result=np.array([])\n",
        "      if mfcc:\n",
        "          mfccs=np.mean(librosa.feature.mfcc(y=X, sr=sample_rate, n_mfcc=40).T, axis=0)\n",
        "          result=np.hstack((result, mfccs))\n",
        "      if chroma:\n",
        "          chroma=np.mean(librosa.feature.chroma_stft(S=stft, sr=sample_rate).T,axis=0)\n",
        "          result=np.hstack((result, chroma))\n",
        "      if mel:\n",
        "          mel=np.mean(librosa.feature.melspectrogram(X, sr=sample_rate).T,axis=0)\n",
        "          result=np.hstack((result, mel))\n",
        "  return result"
      ]
    },
    {
      "cell_type": "code",
      "execution_count": null,
      "metadata": {
        "id": "Z8zuVNbaGSk-"
      },
      "outputs": [],
      "source": [
        "# Index based mapping of label values for SEMOUR-HD dataset\n",
        "observed_emotions = ['Sadness', 'Anger', 'Happiness', 'Neutral', 'Surprise', 'Boredom', 'Fearful', 'Disgust']"
      ]
    },
    {
      "cell_type": "code",
      "execution_count": null,
      "metadata": {
        "id": "Oiss_cDgGdHW"
      },
      "outputs": [],
      "source": [
        "# Load the data and extract features for each sound file\n",
        "def load_data(test_size=0.2):\n",
        "    x,y=[],[]\n",
        "    i = 0\n",
        "    for file in glob.glob(\"HD-SEMOUR/Actor_*/*/*.wav\"):\n",
        "        file_name=os.path.basename(file)\n",
        "        \n",
        "        emotion = file.split('/')[2]\n",
        "\n",
        "        if emotion not in observed_emotions:\n",
        "            continue\n",
        "        feature=extract_feature(file, mfcc=True, chroma=True, mel=True)\n",
        "        x.append(feature)\n",
        "        # get the respective emotion's index and save it\n",
        "        emotion_index = observed_emotions.index(emotion)\n",
        "        y.append(emotion_index)\n",
        "\n",
        "        i+=1\n",
        "\n",
        "        if i % 100 == 0:\n",
        "            print(f\"{i} files read out of 15042\")\n",
        "\n",
        "    return train_test_split(np.array(x), y, test_size=test_size, random_state=9)\n"
      ]
    },
    {
      "cell_type": "code",
      "execution_count": null,
      "metadata": {
        "colab": {
          "base_uri": "https://localhost:8080/"
        },
        "id": "BwfPI0vIGi_n",
        "outputId": "cdcf4a29-335e-4d02-ff89-f7855f10f072"
      },
      "outputs": [
        {
          "name": "stdout",
          "output_type": "stream",
          "text": [
            "100 files read out of 15042\n",
            "200 files read out of 15042\n",
            "300 files read out of 15042\n",
            "400 files read out of 15042\n",
            "500 files read out of 15042\n",
            "600 files read out of 15042\n",
            "700 files read out of 15042\n",
            "800 files read out of 15042\n",
            "900 files read out of 15042\n",
            "1000 files read out of 15042\n",
            "1100 files read out of 15042\n",
            "1200 files read out of 15042\n",
            "1300 files read out of 15042\n",
            "1400 files read out of 15042\n",
            "1500 files read out of 15042\n",
            "1600 files read out of 15042\n",
            "1700 files read out of 15042\n",
            "1800 files read out of 15042\n",
            "1900 files read out of 15042\n",
            "2000 files read out of 15042\n",
            "2100 files read out of 15042\n",
            "2200 files read out of 15042\n",
            "2300 files read out of 15042\n"
          ]
        },
        {
          "name": "stderr",
          "output_type": "stream",
          "text": [
            "/usr/local/lib/python3.7/dist-packages/librosa/core/spectrum.py:224: UserWarning: n_fft=2048 is too small for input signal of length=865\n",
            "  n_fft, y.shape[-1]\n"
          ]
        },
        {
          "name": "stdout",
          "output_type": "stream",
          "text": [
            "2400 files read out of 15042\n",
            "2500 files read out of 15042\n",
            "2600 files read out of 15042\n",
            "2700 files read out of 15042\n",
            "2800 files read out of 15042\n",
            "2900 files read out of 15042\n",
            "3000 files read out of 15042\n",
            "3100 files read out of 15042\n",
            "3200 files read out of 15042\n",
            "3300 files read out of 15042\n",
            "3400 files read out of 15042\n",
            "3500 files read out of 15042\n",
            "3600 files read out of 15042\n",
            "3700 files read out of 15042\n",
            "3800 files read out of 15042\n",
            "3900 files read out of 15042\n",
            "4000 files read out of 15042\n",
            "4100 files read out of 15042\n",
            "4200 files read out of 15042\n",
            "4300 files read out of 15042\n",
            "4400 files read out of 15042\n",
            "4500 files read out of 15042\n",
            "4600 files read out of 15042\n",
            "4700 files read out of 15042\n",
            "4800 files read out of 15042\n",
            "4900 files read out of 15042\n",
            "5000 files read out of 15042\n",
            "5100 files read out of 15042\n",
            "5200 files read out of 15042\n",
            "5300 files read out of 15042\n",
            "5400 files read out of 15042\n",
            "5500 files read out of 15042\n",
            "5600 files read out of 15042\n",
            "5700 files read out of 15042\n",
            "5800 files read out of 15042\n",
            "5900 files read out of 15042\n",
            "6000 files read out of 15042\n",
            "6100 files read out of 15042\n",
            "6200 files read out of 15042\n",
            "6300 files read out of 15042\n",
            "6400 files read out of 15042\n",
            "6500 files read out of 15042\n",
            "6600 files read out of 15042\n",
            "6700 files read out of 15042\n",
            "6800 files read out of 15042\n",
            "6900 files read out of 15042\n",
            "7000 files read out of 15042\n",
            "7100 files read out of 15042\n",
            "7200 files read out of 15042\n",
            "7300 files read out of 15042\n",
            "7400 files read out of 15042\n",
            "7500 files read out of 15042\n",
            "7600 files read out of 15042\n",
            "7700 files read out of 15042\n",
            "7800 files read out of 15042\n",
            "7900 files read out of 15042\n",
            "8000 files read out of 15042\n",
            "8100 files read out of 15042\n",
            "8200 files read out of 15042\n",
            "8300 files read out of 15042\n",
            "8400 files read out of 15042\n",
            "8500 files read out of 15042\n",
            "8600 files read out of 15042\n",
            "8700 files read out of 15042\n",
            "8800 files read out of 15042\n",
            "8900 files read out of 15042\n",
            "9000 files read out of 15042\n",
            "9100 files read out of 15042\n",
            "9200 files read out of 15042\n",
            "9300 files read out of 15042\n",
            "9400 files read out of 15042\n",
            "9500 files read out of 15042\n",
            "9600 files read out of 15042\n",
            "9700 files read out of 15042\n",
            "9800 files read out of 15042\n",
            "9900 files read out of 15042\n",
            "10000 files read out of 15042\n",
            "10100 files read out of 15042\n",
            "10200 files read out of 15042\n",
            "10300 files read out of 15042\n",
            "10400 files read out of 15042\n",
            "10500 files read out of 15042\n",
            "10600 files read out of 15042\n",
            "10700 files read out of 15042\n",
            "10800 files read out of 15042\n",
            "10900 files read out of 15042\n",
            "11000 files read out of 15042\n",
            "11100 files read out of 15042\n",
            "11200 files read out of 15042\n",
            "11300 files read out of 15042\n",
            "11400 files read out of 15042\n",
            "11500 files read out of 15042\n",
            "11600 files read out of 15042\n",
            "11700 files read out of 15042\n",
            "11800 files read out of 15042\n",
            "11900 files read out of 15042\n",
            "12000 files read out of 15042\n",
            "12100 files read out of 15042\n",
            "12200 files read out of 15042\n",
            "12300 files read out of 15042\n",
            "12400 files read out of 15042\n",
            "12500 files read out of 15042\n",
            "12600 files read out of 15042\n",
            "12700 files read out of 15042\n",
            "12800 files read out of 15042\n",
            "12900 files read out of 15042\n",
            "13000 files read out of 15042\n",
            "13100 files read out of 15042\n",
            "13200 files read out of 15042\n",
            "13300 files read out of 15042\n",
            "13400 files read out of 15042\n",
            "13500 files read out of 15042\n",
            "13600 files read out of 15042\n",
            "13700 files read out of 15042\n",
            "13800 files read out of 15042\n",
            "13900 files read out of 15042\n",
            "14000 files read out of 15042\n",
            "14100 files read out of 15042\n",
            "14200 files read out of 15042\n",
            "14300 files read out of 15042\n",
            "14400 files read out of 15042\n",
            "14500 files read out of 15042\n",
            "14600 files read out of 15042\n",
            "14700 files read out of 15042\n",
            "14800 files read out of 15042\n",
            "14900 files read out of 15042\n",
            "15000 files read out of 15042\n"
          ]
        }
      ],
      "source": [
        "# Split the dataset\n",
        "x_train, x_test, y_train, y_test = load_data(test_size=0.3)\n",
        "y_train = np.array(y_train)\n",
        "y_test = np.array(y_test)"
      ]
    },
    {
      "cell_type": "code",
      "execution_count": null,
      "metadata": {
        "colab": {
          "base_uri": "https://localhost:8080/"
        },
        "id": "d3NeQqmoGllz",
        "outputId": "974ad76e-99c7-45aa-ff7d-84a379955c87"
      },
      "outputs": [
        {
          "name": "stdout",
          "output_type": "stream",
          "text": [
            "(10529, 4513)\n"
          ]
        }
      ],
      "source": [
        "# Get the shape of the training and testing datasets\n",
        "print((x_train.shape[0], x_test.shape[0]))"
      ]
    },
    {
      "cell_type": "markdown",
      "metadata": {
        "id": "xGOsqHwKJkFD"
      },
      "source": [
        "## Making the ANN model"
      ]
    },
    {
      "cell_type": "code",
      "execution_count": null,
      "metadata": {
        "id": "KBMIFKv8nHor"
      },
      "outputs": [],
      "source": [
        "import tensorflow as tf\n",
        "from tensorflow import keras\n",
        "\n",
        "from tensorflow.keras import Sequential\n",
        "from tensorflow.keras import layers\n",
        "from tensorflow.keras.layers import Dense\n",
        "\n",
        "from tensorflow.keras.optimizers import Adam"
      ]
    },
    {
      "cell_type": "code",
      "execution_count": null,
      "metadata": {
        "colab": {
          "base_uri": "https://localhost:8080/"
        },
        "id": "mREfZ35YGwQI",
        "outputId": "08074261-1a92-4c30-8d29-236e7063ee89"
      },
      "outputs": [
        {
          "name": "stdout",
          "output_type": "stream",
          "text": [
            "180\n"
          ]
        }
      ],
      "source": [
        "# Get input dimension\n",
        "input_feature = x_train.shape[1]\n",
        "print(input_feature)\n",
        "\n",
        "# Creating our own neutral network model\n",
        "model = Sequential()\n",
        "model.add(Dense(256, activation='relu', input_shape=(input_feature,)))\n",
        "model.add(Dense(128, activation='relu'))\n",
        "model.add(Dense(64, activation='relu'))\n",
        "model.add(Dense(8, activation='softmax'))"
      ]
    },
    {
      "cell_type": "code",
      "execution_count": null,
      "metadata": {
        "id": "rD1H1Fh7nl8a"
      },
      "outputs": [],
      "source": [
        "from tensorflow.keras.losses import SparseCategoricalCrossentropy\n",
        "\n",
        "# Choosing the optimizer, loss function and evaluation metric\n",
        "optimizer = Adam(learning_rate=0.001)\n",
        "model.compile(optimizer=optimizer,\n",
        "              loss='sparse_categorical_crossentropy',\n",
        "              metrics=['accuracy'])"
      ]
    },
    {
      "cell_type": "code",
      "execution_count": null,
      "metadata": {
        "colab": {
          "base_uri": "https://localhost:8080/",
          "height": 761
        },
        "id": "CsCVCdeBny4Z",
        "outputId": "c2c9fa99-afe8-4f33-e204-e548672a07b9"
      },
      "outputs": [
        {
          "name": "stdout",
          "output_type": "stream",
          "text": [
            "Model: \"sequential_1\"\n",
            "_________________________________________________________________\n",
            " Layer (type)                Output Shape              Param #   \n",
            "=================================================================\n",
            " dense_4 (Dense)             (None, 256)               46336     \n",
            "                                                                 \n",
            " dense_5 (Dense)             (None, 128)               32896     \n",
            "                                                                 \n",
            " dense_6 (Dense)             (None, 64)                8256      \n",
            "                                                                 \n",
            " dense_7 (Dense)             (None, 8)                 520       \n",
            "                                                                 \n",
            "=================================================================\n",
            "Total params: 88,008\n",
            "Trainable params: 88,008\n",
            "Non-trainable params: 0\n",
            "_________________________________________________________________\n"
          ]
        },
        {
          "data": {
            "image/png": "[encoded data removed]",
            "text/plain": [
              "<IPython.core.display.Image object>"
            ]
          },
          "execution_count": 41,
          "metadata": {},
          "output_type": "execute_result"
        }
      ],
      "source": [
        "model.summary()\n",
        "\n",
        "# Diagram of the created ANN model\n",
        "from tensorflow.keras.utils import plot_model\n",
        "plot_model(model)"
      ]
    },
    {
      "cell_type": "code",
      "execution_count": null,
      "metadata": {
        "colab": {
          "base_uri": "https://localhost:8080/"
        },
        "id": "wFGo1HCBG2Bb",
        "outputId": "d240c76d-8307-40a3-ac88-348ce295e809"
      },
      "outputs": [
        {
          "name": "stdout",
          "output_type": "stream",
          "text": [
            "Epoch 1/50\n",
            "264/264 [==============================] - 2s 5ms/step - loss: 1.8062 - accuracy: 0.5068 - val_loss: 1.2078 - val_accuracy: 0.5589\n",
            "Epoch 2/50\n",
            "264/264 [==============================] - 1s 5ms/step - loss: 0.8932 - accuracy: 0.6936 - val_loss: 0.9294 - val_accuracy: 0.6781\n",
            "Epoch 3/50\n",
            "264/264 [==============================] - 1s 4ms/step - loss: 0.6571 - accuracy: 0.7712 - val_loss: 0.6362 - val_accuracy: 0.7764\n",
            "Epoch 4/50\n",
            "264/264 [==============================] - 1s 4ms/step - loss: 0.5143 - accuracy: 0.8235 - val_loss: 0.6597 - val_accuracy: 0.7844\n",
            "Epoch 5/50\n",
            "264/264 [==============================] - 1s 5ms/step - loss: 0.4453 - accuracy: 0.8482 - val_loss: 0.5142 - val_accuracy: 0.8262\n",
            "Epoch 6/50\n",
            "264/264 [==============================] - 1s 4ms/step - loss: 0.3678 - accuracy: 0.8759 - val_loss: 0.5630 - val_accuracy: 0.8219\n",
            "Epoch 7/50\n",
            "264/264 [==============================] - 1s 5ms/step - loss: 0.3371 - accuracy: 0.8834 - val_loss: 0.4551 - val_accuracy: 0.8590\n",
            "Epoch 8/50\n",
            "264/264 [==============================] - 1s 5ms/step - loss: 0.2702 - accuracy: 0.9034 - val_loss: 0.4516 - val_accuracy: 0.8590\n",
            "Epoch 9/50\n",
            "264/264 [==============================] - 1s 5ms/step - loss: 0.2536 - accuracy: 0.9142 - val_loss: 0.5019 - val_accuracy: 0.8462\n",
            "Epoch 10/50\n",
            "264/264 [==============================] - 1s 5ms/step - loss: 0.2462 - accuracy: 0.9177 - val_loss: 0.5423 - val_accuracy: 0.8381\n",
            "Epoch 11/50\n",
            "264/264 [==============================] - 1s 4ms/step - loss: 0.2218 - accuracy: 0.9277 - val_loss: 0.4659 - val_accuracy: 0.8647\n",
            "Epoch 12/50\n",
            "264/264 [==============================] - 1s 5ms/step - loss: 0.2125 - accuracy: 0.9276 - val_loss: 0.5175 - val_accuracy: 0.8485\n",
            "Epoch 13/50\n",
            "264/264 [==============================] - 1s 5ms/step - loss: 0.1945 - accuracy: 0.9339 - val_loss: 0.4858 - val_accuracy: 0.8547\n",
            "Epoch 14/50\n",
            "264/264 [==============================] - 1s 5ms/step - loss: 0.1594 - accuracy: 0.9468 - val_loss: 0.3952 - val_accuracy: 0.8903\n",
            "Epoch 15/50\n",
            "264/264 [==============================] - 1s 5ms/step - loss: 0.1391 - accuracy: 0.9520 - val_loss: 0.3812 - val_accuracy: 0.8955\n",
            "Epoch 16/50\n",
            "264/264 [==============================] - 1s 5ms/step - loss: 0.1636 - accuracy: 0.9493 - val_loss: 0.3894 - val_accuracy: 0.8917\n",
            "Epoch 17/50\n",
            "264/264 [==============================] - 1s 5ms/step - loss: 0.1402 - accuracy: 0.9525 - val_loss: 0.4239 - val_accuracy: 0.8841\n",
            "Epoch 18/50\n",
            "264/264 [==============================] - 1s 4ms/step - loss: 0.1607 - accuracy: 0.9493 - val_loss: 0.4106 - val_accuracy: 0.8837\n",
            "Epoch 19/50\n",
            "264/264 [==============================] - 1s 5ms/step - loss: 0.1371 - accuracy: 0.9510 - val_loss: 0.3679 - val_accuracy: 0.9041\n",
            "Epoch 20/50\n",
            "264/264 [==============================] - 1s 5ms/step - loss: 0.0920 - accuracy: 0.9689 - val_loss: 0.3963 - val_accuracy: 0.9050\n",
            "Epoch 21/50\n",
            "264/264 [==============================] - 1s 5ms/step - loss: 0.0948 - accuracy: 0.9671 - val_loss: 0.4427 - val_accuracy: 0.8974\n",
            "Epoch 22/50\n",
            "264/264 [==============================] - 2s 7ms/step - loss: 0.1075 - accuracy: 0.9664 - val_loss: 0.3915 - val_accuracy: 0.9003\n",
            "Epoch 23/50\n",
            "264/264 [==============================] - 1s 5ms/step - loss: 0.1026 - accuracy: 0.9669 - val_loss: 0.3981 - val_accuracy: 0.9017\n",
            "Epoch 24/50\n",
            "264/264 [==============================] - 1s 5ms/step - loss: 0.1281 - accuracy: 0.9588 - val_loss: 0.4844 - val_accuracy: 0.8908\n",
            "Epoch 25/50\n",
            "264/264 [==============================] - 1s 5ms/step - loss: 0.1119 - accuracy: 0.9641 - val_loss: 0.4733 - val_accuracy: 0.8913\n",
            "Epoch 26/50\n",
            "264/264 [==============================] - 1s 5ms/step - loss: 0.0803 - accuracy: 0.9712 - val_loss: 0.4629 - val_accuracy: 0.8970\n",
            "Epoch 27/50\n",
            "264/264 [==============================] - 1s 5ms/step - loss: 0.0715 - accuracy: 0.9765 - val_loss: 0.4120 - val_accuracy: 0.9060\n",
            "Epoch 28/50\n",
            "264/264 [==============================] - 1s 5ms/step - loss: 0.0553 - accuracy: 0.9833 - val_loss: 0.4260 - val_accuracy: 0.9098\n",
            "Epoch 29/50\n",
            "264/264 [==============================] - 1s 5ms/step - loss: 0.0891 - accuracy: 0.9700 - val_loss: 0.4440 - val_accuracy: 0.9031\n",
            "Epoch 30/50\n",
            "264/264 [==============================] - 1s 5ms/step - loss: 0.0594 - accuracy: 0.9808 - val_loss: 0.4733 - val_accuracy: 0.9031\n",
            "Epoch 31/50\n",
            "264/264 [==============================] - 1s 5ms/step - loss: 0.0797 - accuracy: 0.9732 - val_loss: 0.4886 - val_accuracy: 0.8951\n",
            "Epoch 32/50\n",
            "264/264 [==============================] - 1s 5ms/step - loss: 0.1086 - accuracy: 0.9658 - val_loss: 0.4577 - val_accuracy: 0.8998\n",
            "Epoch 33/50\n",
            "264/264 [==============================] - 1s 5ms/step - loss: 0.0810 - accuracy: 0.9733 - val_loss: 0.4977 - val_accuracy: 0.8970\n",
            "Epoch 34/50\n",
            "264/264 [==============================] - 1s 5ms/step - loss: 0.0576 - accuracy: 0.9840 - val_loss: 0.5063 - val_accuracy: 0.9036\n",
            "Epoch 35/50\n",
            "264/264 [==============================] - 1s 5ms/step - loss: 0.0462 - accuracy: 0.9847 - val_loss: 0.4712 - val_accuracy: 0.9041\n",
            "Epoch 36/50\n",
            "264/264 [==============================] - 1s 5ms/step - loss: 0.0574 - accuracy: 0.9831 - val_loss: 0.4560 - val_accuracy: 0.9084\n",
            "Epoch 37/50\n",
            "264/264 [==============================] - 1s 5ms/step - loss: 0.0515 - accuracy: 0.9835 - val_loss: 0.4692 - val_accuracy: 0.9103\n",
            "Epoch 38/50\n",
            "264/264 [==============================] - 1s 5ms/step - loss: 0.0730 - accuracy: 0.9753 - val_loss: 0.4154 - val_accuracy: 0.9122\n",
            "Epoch 39/50\n",
            "264/264 [==============================] - 1s 5ms/step - loss: 0.0728 - accuracy: 0.9770 - val_loss: 0.5002 - val_accuracy: 0.9036\n",
            "Epoch 40/50\n",
            "264/264 [==============================] - 1s 5ms/step - loss: 0.0489 - accuracy: 0.9846 - val_loss: 0.4116 - val_accuracy: 0.9107\n",
            "Epoch 41/50\n",
            "264/264 [==============================] - 1s 5ms/step - loss: 0.0260 - accuracy: 0.9913 - val_loss: 0.4414 - val_accuracy: 0.9188\n",
            "Epoch 42/50\n",
            "264/264 [==============================] - 1s 5ms/step - loss: 0.0353 - accuracy: 0.9877 - val_loss: 0.4540 - val_accuracy: 0.9236\n",
            "Epoch 43/50\n",
            "264/264 [==============================] - 1s 5ms/step - loss: 0.0485 - accuracy: 0.9855 - val_loss: 0.4575 - val_accuracy: 0.9169\n",
            "Epoch 44/50\n",
            "264/264 [==============================] - 1s 5ms/step - loss: 0.0866 - accuracy: 0.9735 - val_loss: 0.4905 - val_accuracy: 0.9027\n",
            "Epoch 45/50\n",
            "264/264 [==============================] - 1s 5ms/step - loss: 0.0626 - accuracy: 0.9797 - val_loss: 0.3874 - val_accuracy: 0.9231\n",
            "Epoch 46/50\n",
            "264/264 [==============================] - 1s 5ms/step - loss: 0.0247 - accuracy: 0.9915 - val_loss: 0.4131 - val_accuracy: 0.9160\n",
            "Epoch 47/50\n",
            "264/264 [==============================] - 1s 5ms/step - loss: 0.0595 - accuracy: 0.9831 - val_loss: 0.5251 - val_accuracy: 0.9017\n",
            "Epoch 48/50\n",
            "264/264 [==============================] - 1s 5ms/step - loss: 0.0825 - accuracy: 0.9760 - val_loss: 0.4236 - val_accuracy: 0.9122\n",
            "Epoch 49/50\n",
            "264/264 [==============================] - 1s 5ms/step - loss: 0.0406 - accuracy: 0.9869 - val_loss: 0.4359 - val_accuracy: 0.9164\n",
            "Epoch 50/50\n",
            "264/264 [==============================] - 1s 5ms/step - loss: 0.0316 - accuracy: 0.9905 - val_loss: 0.4653 - val_accuracy: 0.9202\n"
          ]
        }
      ],
      "source": [
        "# Training the model on given dataset\n",
        "history = model.fit(x_train, y_train, epochs=50, validation_split=0.2, verbose=1) #verbose = how to see training progress here"
      ]
    },
    {
      "cell_type": "code",
      "execution_count": null,
      "metadata": {
        "colab": {
          "base_uri": "https://localhost:8080/"
        },
        "id": "__VUWScMG4hD",
        "outputId": "67f94979-7a56-48e9-8eae-2d9e97d34555"
      },
      "outputs": [
        {
          "name": "stdout",
          "output_type": "stream",
          "text": [
            "142/142 [==============================] - 1s 3ms/step - loss: 0.4400 - accuracy: 0.9165\n"
          ]
        },
        {
          "data": {
            "text/plain": [
              "[0.4400220513343811, 0.9164635539054871]"
            ]
          },
          "execution_count": 43,
          "metadata": {},
          "output_type": "execute_result"
        }
      ],
      "source": [
        "# Predicting for the test dataset\n",
        "model.evaluate(x_test, y_test)"
      ]
    },
    {
      "cell_type": "markdown",
      "metadata": {
        "id": "f8A6nTljQiWd"
      },
      "source": [
        "## Confusion Matrix"
      ]
    },
    {
      "cell_type": "code",
      "execution_count": null,
      "metadata": {
        "id": "TPRGE6x3JwmV"
      },
      "outputs": [],
      "source": [
        "# Creating a confusion matrix\n",
        "y_pred = model.predict(x_test)\n",
        "y_result = []\n",
        "y_pred_list = y_pred.tolist()\n",
        "temp = 0\n",
        "for i in range(len(y_pred_list)):\n",
        "  temp = y_pred_list[i].index(max(y_pred_list[i]))\n",
        "  y_result.append(temp)"
      ]
    },
    {
      "cell_type": "code",
      "execution_count": null,
      "metadata": {
        "colab": {
          "base_uri": "https://localhost:8080/"
        },
        "id": "S5BChHOuM2PV",
        "outputId": "8afea413-b046-4321-d282-578659034972"
      },
      "outputs": [
        {
          "data": {
            "text/plain": [
              "<tf.Tensor: shape=(8, 8), dtype=int32, numpy=\n",
              "array([[562,   2,  11,   0,   0,   4,  24,   3],\n",
              "       [  4, 505,  14,   0,  14,   0,   6,   4],\n",
              "       [ 10,   9, 515,   2,   9,   2,  31,   3],\n",
              "       [  3,   0,   6, 493,   1,  12,   6,   5],\n",
              "       [  9,  13,  33,   0, 466,   5,  25,  10],\n",
              "       [  1,   0,   0,   5,   0, 561,   3,   2],\n",
              "       [ 17,   6,  11,   0,   7,   5, 517,  15],\n",
              "       [  3,   1,   5,   2,   2,   3,   9, 517]], dtype=int32)>"
            ]
          },
          "execution_count": 45,
          "metadata": {},
          "output_type": "execute_result"
        }
      ],
      "source": [
        "tf.math.confusion_matrix(y_test, y_result)"
      ]
    },
    {
      "cell_type": "markdown",
      "metadata": {
        "id": "XlJVUoSGGTYd"
      },
      "source": [
        "## Model's Accuracy"
      ]
    },
    {
      "cell_type": "code",
      "execution_count": null,
      "metadata": {
        "colab": {
          "base_uri": "https://localhost:8080/",
          "height": 295
        },
        "id": "OydRoTb9GV0l",
        "outputId": "fd420a01-bca5-4f3f-e041-c44c60d4d0a3"
      },
      "outputs": [
        {
          "data": {
            "image/png": "[encoded data removed]",
            "text/plain": [
              "<Figure size 432x288 with 1 Axes>"
            ]
          },
          "metadata": {
            "needs_background": "light"
          },
          "output_type": "display_data"
        }
      ],
      "source": [
        "import matplotlib.pyplot as plt\n",
        "plt.plot(history.history['accuracy'])\n",
        "plt.plot(history.history['val_accuracy'])\n",
        "plt.title('Model Accuracy')\n",
        "plt.xlabel('epoch')\n",
        "plt.ylabel('accuracy')\n",
        "plt.legend(['Train', 'Validation'])\n",
        "plt.show()"
      ]
    },
    {
      "cell_type": "markdown",
      "metadata": {
        "id": "FWjFcu_nH5PH"
      },
      "source": [
        "## Model's Loss"
      ]
    },
    {
      "cell_type": "code",
      "execution_count": null,
      "metadata": {
        "colab": {
          "base_uri": "https://localhost:8080/",
          "height": 295
        },
        "id": "vPPdrUzXH792",
        "outputId": "4c8fedf7-921a-4d07-cf8f-b151245d266f"
      },
      "outputs": [
        {
          "data": {
            "image/png": "[encoded data removed]",
            "text/plain": [
              "<Figure size 432x288 with 1 Axes>"
            ]
          },
          "metadata": {
            "needs_background": "light"
          },
          "output_type": "display_data"
        }
      ],
      "source": [
        "plt.plot(history.history['loss'])\n",
        "plt.plot(history.history['val_loss'])\n",
        "plt.title('Model Loss')\n",
        "plt.xlabel('epoch')\n",
        "plt.ylabel('loss')\n",
        "plt.legend(['Train', 'Validation'])\n",
        "plt.show()"
      ]
    },
    {
      "cell_type": "markdown",
      "metadata": {
        "id": "cqgHWnBKAjxL"
      },
      "source": [
        "## Other Metrics"
      ]
    },
    {
      "cell_type": "code",
      "execution_count": null,
      "metadata": {
        "id": "gANJsPd-AqYL"
      },
      "outputs": [],
      "source": [
        "# calculating metrics for a neural network model\n",
        "from sklearn import metrics"
      ]
    },
    {
      "cell_type": "code",
      "execution_count": null,
      "metadata": {
        "colab": {
          "base_uri": "https://localhost:8080/"
        },
        "id": "R6y_AvaZQCHF",
        "outputId": "c171973c-7943-408b-f614-fddb9674cf75"
      },
      "outputs": [
        {
          "name": "stdout",
          "output_type": "stream",
          "text": [
            "Confusion Matrix:\n",
            "[[562   2  11   0   0   4  24   3]\n",
            " [  4 505  14   0  14   0   6   4]\n",
            " [ 10   9 515   2   9   2  31   3]\n",
            " [  3   0   6 493   1  12   6   5]\n",
            " [  9  13  33   0 466   5  25  10]\n",
            " [  1   0   0   5   0 561   3   2]\n",
            " [ 17   6  11   0   7   5 517  15]\n",
            " [  3   1   5   2   2   3   9 517]]\n",
            "\n",
            "\n",
            "\n",
            "              precision    recall  f1-score   support\n",
            "\n",
            "     Sadness      0.923     0.927     0.925       606\n",
            "       Anger      0.942     0.923     0.933       547\n",
            "   Happiness      0.866     0.886     0.876       581\n",
            "     Neutral      0.982     0.937     0.959       526\n",
            "    Surprise      0.934     0.831     0.879       561\n",
            "     Boredom      0.948     0.981     0.964       572\n",
            "     Fearful      0.833     0.894     0.862       578\n",
            "     Disgust      0.925     0.954     0.939       542\n",
            "\n",
            "    accuracy                          0.916      4513\n",
            "   macro avg      0.919     0.917     0.917      4513\n",
            "weighted avg      0.918     0.916     0.917      4513\n",
            "\n"
          ]
        }
      ],
      "source": [
        "print(\"Confusion Matrix:\")\n",
        "print(metrics.confusion_matrix(y_test.tolist(), y_result))\n",
        "print(\"\\n\\n\")\n",
        "print(metrics.classification_report(y_test.tolist(), y_result, digits=3, labels=[0,1,2,3,4,5,6,7], target_names=['Sadness', 'Anger', 'Happiness', 'Neutral', 'Surprise', 'Boredom', 'Fearful', 'Disgust']))"
      ]
    },
    {
      "cell_type": "markdown",
      "metadata": {
        "id": "XmEO9Z8gsXja"
      },
      "source": [
        "# Recording and classifying User Audio"
      ]
    },
    {
      "cell_type": "code",
      "execution_count": null,
      "metadata": {
        "id": "YxljkLL6sdSB"
      },
      "outputs": [],
      "source": [
        "!pip install ffmpeg-python > /dev/null # for inputting voice via microphone\n",
        "import IPython.display as ipd\n",
        "import torchaudio\n"
      ]
    },
    {
      "cell_type": "code",
      "execution_count": null,
      "metadata": {
        "id": "NbjM7ZJIRScT"
      },
      "outputs": [],
      "source": [
        "# Extract features (mfcc, chroma, mel) from the recorded audio\n",
        "def recorded_audio_extract_feature(file_name, mfcc, chroma, mel, axis_=1):\n",
        "  with soundfile.SoundFile(file_name) as sound_file:\n",
        "      X = sound_file.read(dtype=\"float32\")\n",
        "      x_np = x.cpu().detach().numpy()\n",
        "      X = x_np.mean(axis=axis_)\n",
        "      sample_rate=sound_file.samplerate\n",
        "      if chroma:\n",
        "          stft=np.abs(librosa.stft(X))\n",
        "      result=np.array([])\n",
        "      if mfcc:\n",
        "          mfccs=np.mean(librosa.feature.mfcc(y=X, sr=sample_rate, n_mfcc=40).T, axis=0)\n",
        "          result=np.hstack((result, mfccs))\n",
        "      if chroma:\n",
        "          chroma=np.mean(librosa.feature.chroma_stft(S=stft, sr=sample_rate).T,axis=0)\n",
        "          result=np.hstack((result, chroma))\n",
        "      if mel:\n",
        "          mel=np.mean(librosa.feature.melspectrogram(X, sr=sample_rate).T,axis=0)\n",
        "          result=np.hstack((result, mel))\n",
        "  return result"
      ]
    },
    {
      "cell_type": "code",
      "execution_count": null,
      "metadata": {
        "id": "SzFZIDG0r06o"
      },
      "outputs": [],
      "source": [
        "# Audio Button and to save recording\n",
        "# code taken from https://ricardodeazambuja.com/deep_learning/2019/03/09/audio_and_video_google_colab/\n",
        "from IPython.display import HTML, Audio\n",
        "from google.colab.output import eval_js\n",
        "from base64 import b64decode\n",
        "import numpy as np\n",
        "import io\n",
        "import ffmpeg\n",
        "import tempfile\n",
        "import pathlib\n",
        "\n",
        "\n",
        "AUDIO_HTML = \"\"\"\n",
        "<script>\n",
        "var my_div = document.createElement(\"DIV\");\n",
        "var my_p = document.createElement(\"P\");\n",
        "var my_btn = document.createElement(\"BUTTON\");\n",
        "var t = document.createTextNode(\"Press to start recording\");\n",
        "\n",
        "my_btn.appendChild(t);\n",
        "//my_p.appendChild(my_btn);\n",
        "my_div.appendChild(my_btn);\n",
        "document.body.appendChild(my_div);\n",
        "\n",
        "var base64data = 0;\n",
        "var reader;\n",
        "var recorder, gumStream;\n",
        "var recordButton = my_btn;\n",
        "\n",
        "var handleSuccess = function(stream) {\n",
        "  gumStream = stream;\n",
        "  var options = {\n",
        "    //bitsPerSecond: 8000, //chrome seems to ignore, always 48k\n",
        "    mimeType : 'audio/webm;codecs=opus'\n",
        "    //mimeType : 'audio/webm;codecs=pcm'\n",
        "  };            \n",
        "  //recorder = new MediaRecorder(stream, options);\n",
        "  recorder = new MediaRecorder(stream);\n",
        "  recorder.ondataavailable = function(e) {            \n",
        "    var url = URL.createObjectURL(e.data);\n",
        "    var preview = document.createElement('audio');\n",
        "    preview.controls = true;\n",
        "    preview.src = url;\n",
        "    document.body.appendChild(preview);\n",
        "\n",
        "    reader = new FileReader();\n",
        "    reader.readAsDataURL(e.data); \n",
        "    reader.onloadend = function() {\n",
        "      base64data = reader.result;\n",
        "      //console.log(\"Inside FileReader:\" + base64data);\n",
        "    }\n",
        "  };\n",
        "  recorder.start();\n",
        "  };\n",
        "\n",
        "recordButton.innerText = \"Recording... press to stop\";\n",
        "\n",
        "navigator.mediaDevices.getUserMedia({audio: true}).then(handleSuccess);\n",
        "\n",
        "\n",
        "function toggleRecording() {\n",
        "  if (recorder && recorder.state == \"recording\") {\n",
        "      recorder.stop();\n",
        "      gumStream.getAudioTracks()[0].stop();\n",
        "      recordButton.innerText = \"Saving the recording... pls wait!\"\n",
        "  }\n",
        "}\n",
        "\n",
        "// https://stackoverflow.com/a/951057\n",
        "function sleep(ms) {\n",
        "  return new Promise(resolve => setTimeout(resolve, ms));\n",
        "}\n",
        "\n",
        "var data = new Promise(resolve=>{\n",
        "//recordButton.addEventListener(\"click\", toggleRecording);\n",
        "recordButton.onclick = ()=>{\n",
        "toggleRecording()\n",
        "\n",
        "sleep(2000).then(() => {\n",
        "  // wait 2000ms for the data to be available...\n",
        "  // ideally this should use something like await...\n",
        "  //console.log(\"Inside data:\" + base64data)\n",
        "  resolve(base64data.toString())\n",
        "\n",
        "});\n",
        "\n",
        "}\n",
        "});\n",
        "      \n",
        "</script>\n",
        "\"\"\"\n",
        "\n",
        "def get_audio():\n",
        "  display(HTML(AUDIO_HTML))\n",
        "  data = eval_js(\"data\")\n",
        "  binary = b64decode(data.split(',')[1])\n",
        "  \n",
        "  process = (ffmpeg\n",
        "    .input('pipe:0')\n",
        "    .output('pipe:1', format='wav')\n",
        "    .run_async(pipe_stdin=True, pipe_stdout=True, pipe_stderr=True, quiet=True, overwrite_output=True)\n",
        "  )\n",
        "  output, err = process.communicate(input=binary)\n",
        "  \n",
        "  riff_chunk_size = len(output) - 8\n",
        "  # Break up the chunk size into four bytes, held in b.\n",
        "  q = riff_chunk_size\n",
        "  b = []\n",
        "  for i in range(4):\n",
        "      q, r = divmod(q, 256)\n",
        "      b.append(r)\n",
        "\n",
        "  # Replace bytes 4:8 in proc.stdout with the actual size of the RIFF chunk.\n",
        "  riff = output[:4] + bytes(b) + output[8:]\n",
        "\n",
        "  path = \"saved/temp.wav\"\n",
        "  with open(path, \"wb\") as f:\n",
        "    f.write(riff)\n",
        "  x, sr = torchaudio.load(path)\n",
        "\n",
        "  return x, sr"
      ]
    },
    {
      "cell_type": "code",
      "execution_count": null,
      "metadata": {
        "colab": {
          "base_uri": "https://localhost:8080/",
          "height": 383
        },
        "id": "btBlnk2atL8o",
        "outputId": "e798e17b-cdef-4ce4-bb0b-e7cb9b4253dc"
      },
      "outputs": [
        {
          "data": {
            "text/html": [
              "\n",
              "<script>\n",
              "var my_div = document.createElement(\"DIV\");\n",
              "var my_p = document.createElement(\"P\");\n",
              "var my_btn = document.createElement(\"BUTTON\");\n",
              "var t = document.createTextNode(\"Press to start recording\");\n",
              "\n",
              "my_btn.appendChild(t);\n",
              "//my_p.appendChild(my_btn);\n",
              "my_div.appendChild(my_btn);\n",
              "document.body.appendChild(my_div);\n",
              "\n",
              "var base64data = 0;\n",
              "var reader;\n",
              "var recorder, gumStream;\n",
              "var recordButton = my_btn;\n",
              "\n",
              "var handleSuccess = function(stream) {\n",
              "  gumStream = stream;\n",
              "  var options = {\n",
              "    //bitsPerSecond: 8000, //chrome seems to ignore, always 48k\n",
              "    mimeType : 'audio/webm;codecs=opus'\n",
              "    //mimeType : 'audio/webm;codecs=pcm'\n",
              "  };            \n",
              "  //recorder = new MediaRecorder(stream, options);\n",
              "  recorder = new MediaRecorder(stream);\n",
              "  recorder.ondataavailable = function(e) {            \n",
              "    var url = URL.createObjectURL(e.data);\n",
              "    var preview = document.createElement('audio');\n",
              "    preview.controls = true;\n",
              "    preview.src = url;\n",
              "    document.body.appendChild(preview);\n",
              "\n",
              "    reader = new FileReader();\n",
              "    reader.readAsDataURL(e.data); \n",
              "    reader.onloadend = function() {\n",
              "      base64data = reader.result;\n",
              "      //console.log(\"Inside FileReader:\" + base64data);\n",
              "    }\n",
              "  };\n",
              "  recorder.start();\n",
              "  };\n",
              "\n",
              "recordButton.innerText = \"Recording... press to stop\";\n",
              "\n",
              "navigator.mediaDevices.getUserMedia({audio: true}).then(handleSuccess);\n",
              "\n",
              "\n",
              "function toggleRecording() {\n",
              "  if (recorder && recorder.state == \"recording\") {\n",
              "      recorder.stop();\n",
              "      gumStream.getAudioTracks()[0].stop();\n",
              "      recordButton.innerText = \"Saving the recording... pls wait!\"\n",
              "  }\n",
              "}\n",
              "\n",
              "// https://stackoverflow.com/a/951057\n",
              "function sleep(ms) {\n",
              "  return new Promise(resolve => setTimeout(resolve, ms));\n",
              "}\n",
              "\n",
              "var data = new Promise(resolve=>{\n",
              "//recordButton.addEventListener(\"click\", toggleRecording);\n",
              "recordButton.onclick = ()=>{\n",
              "toggleRecording()\n",
              "\n",
              "sleep(2000).then(() => {\n",
              "  // wait 2000ms for the data to be available...\n",
              "  // ideally this should use something like await...\n",
              "  //console.log(\"Inside data:\" + base64data)\n",
              "  resolve(base64data.toString())\n",
              "\n",
              "});\n",
              "\n",
              "}\n",
              "});\n",
              "      \n",
              "</script>\n"
            ],
            "text/plain": [
              "<IPython.core.display.HTML object>"
            ]
          },
          "metadata": {},
          "output_type": "display_data"
        },
        {
          "ename": "FileNotFoundError",
          "evalue": "ignored",
          "output_type": "error",
          "traceback": [
            "\u001b[0;31m---------------------------------------------------------------------------\u001b[0m",
            "\u001b[0;31mFileNotFoundError\u001b[0m                         Traceback (most recent call last)",
            "\u001b[0;32m<ipython-input-25-cab87e3f83ce>\u001b[0m in \u001b[0;36m<module>\u001b[0;34m()\u001b[0m\n\u001b[1;32m      1\u001b[0m \u001b[0;31m# record the audio\u001b[0m\u001b[0;34m\u001b[0m\u001b[0;34m\u001b[0m\u001b[0;34m\u001b[0m\u001b[0m\n\u001b[0;32m----> 2\u001b[0;31m \u001b[0mx\u001b[0m\u001b[0;34m,\u001b[0m \u001b[0msr\u001b[0m \u001b[0;34m=\u001b[0m \u001b[0mget_audio\u001b[0m\u001b[0;34m(\u001b[0m\u001b[0;34m)\u001b[0m\u001b[0;34m\u001b[0m\u001b[0;34m\u001b[0m\u001b[0m\n\u001b[0m",
            "\u001b[0;32m<ipython-input-24-c9e285a01c7e>\u001b[0m in \u001b[0;36mget_audio\u001b[0;34m()\u001b[0m\n\u001b[1;32m    115\u001b[0m \u001b[0;34m\u001b[0m\u001b[0m\n\u001b[1;32m    116\u001b[0m   \u001b[0mpath\u001b[0m \u001b[0;34m=\u001b[0m \u001b[0;34m\"saved/temp.wav\"\u001b[0m\u001b[0;34m\u001b[0m\u001b[0;34m\u001b[0m\u001b[0m\n\u001b[0;32m--> 117\u001b[0;31m   \u001b[0;32mwith\u001b[0m \u001b[0mopen\u001b[0m\u001b[0;34m(\u001b[0m\u001b[0mpath\u001b[0m\u001b[0;34m,\u001b[0m \u001b[0;34m\"wb\"\u001b[0m\u001b[0;34m)\u001b[0m \u001b[0;32mas\u001b[0m \u001b[0mf\u001b[0m\u001b[0;34m:\u001b[0m\u001b[0;34m\u001b[0m\u001b[0;34m\u001b[0m\u001b[0m\n\u001b[0m\u001b[1;32m    118\u001b[0m     \u001b[0mf\u001b[0m\u001b[0;34m.\u001b[0m\u001b[0mwrite\u001b[0m\u001b[0;34m(\u001b[0m\u001b[0mriff\u001b[0m\u001b[0;34m)\u001b[0m\u001b[0;34m\u001b[0m\u001b[0;34m\u001b[0m\u001b[0m\n\u001b[1;32m    119\u001b[0m   \u001b[0mx\u001b[0m\u001b[0;34m,\u001b[0m \u001b[0msr\u001b[0m \u001b[0;34m=\u001b[0m \u001b[0mtorchaudio\u001b[0m\u001b[0;34m.\u001b[0m\u001b[0mload\u001b[0m\u001b[0;34m(\u001b[0m\u001b[0mpath\u001b[0m\u001b[0;34m)\u001b[0m\u001b[0;34m\u001b[0m\u001b[0;34m\u001b[0m\u001b[0m\n",
            "\u001b[0;31mFileNotFoundError\u001b[0m: [Errno 2] No such file or directory: 'saved/temp.wav'"
          ]
        }
      ],
      "source": [
        "# record the audio\n",
        "x, sr = get_audio()"
      ]
    },
    {
      "cell_type": "code",
      "execution_count": null,
      "metadata": {
        "id": "9RqL68fbtmk0"
      },
      "outputs": [],
      "source": [
        "# play the audio\n",
        "print(f'We loaded a speech example; sample rate: {sr}, number of channels: {x.size(0)}, its length is {x.size(1)} frames or about {x.size(1) // sr} seconds.')\n",
        "ipd.Audio(x, rate=sr)"
      ]
    },
    {
      "cell_type": "markdown",
      "metadata": {
        "id": "RaSxE6fIvC_x"
      },
      "source": [
        "## Feature Extraction and prediction of the recorded audio\n",
        "Predicting and plotting the output of the extracted features from the recorded audio."
      ]
    },
    {
      "cell_type": "code",
      "execution_count": null,
      "metadata": {
        "id": "t8x_Tt6WvH16"
      },
      "outputs": [],
      "source": [
        "# Feature extraction\n",
        "feature=recorded_audio_extract_feature(\"saved/temp.wav\", mfcc=True, chroma=True, mel=True, axis_=0)\n",
        "\n",
        "# Prediction\n",
        "x = [feature]\n",
        "x = np.array(x)\n",
        "pred_out = model.predict(x)\n",
        "\n",
        "# observed emotions = ['Sadness', 'Anger', 'Happiness', 'Neutral', 'Surprise', 'Boredom', 'Fearful', 'Disgust']\n",
        "val = pred_out.tolist()\n",
        "pred = val[0].index(max(val[0]))\n",
        "print(observed_emotions[pred])"
      ]
    },
    {
      "cell_type": "markdown",
      "metadata": {
        "id": "g1Ya9POWOoDi"
      },
      "source": [
        "## Plotting the extracted features"
      ]
    },
    {
      "cell_type": "code",
      "execution_count": null,
      "metadata": {
        "id": "ag79H_WZMygI"
      },
      "outputs": [],
      "source": [
        "# Extract features (mfcc, chroma, mel) from the recorded audio for plotting\n",
        "def extract_single_feature(file_name, spectogram=False, mfcc=False, chroma=False, mel=False, axis_=1):\n",
        "  with soundfile.SoundFile(file_name) as sound_file:\n",
        "      X, sample_rate = librosa.load(path=file_name, dtype=\"float32\")\n",
        "\n",
        "      if spectogram:\n",
        "        D = librosa.stft(y=X)  # STFT of y\n",
        "        S_db = librosa.amplitude_to_db(np.abs(D), ref=np.max)\n",
        "        return S_db\n",
        "\n",
        "      if chroma:\n",
        "          stft=np.abs(librosa.stft(X))\n",
        "\n",
        "      if mfcc:\n",
        "          return librosa.feature.mfcc(y=X, sr=sample_rate, n_mfcc=40)\n",
        "      \n",
        "      if chroma:\n",
        "          return librosa.feature.chroma_stft(S=stft, sr=sample_rate)\n",
        "      \n",
        "      if mel:\n",
        "          return librosa.feature.melspectrogram(X, sr=sample_rate, fmax=8000)"
      ]
    },
    {
      "cell_type": "code",
      "execution_count": null,
      "metadata": {
        "id": "uF0ZiFvRW-ZV"
      },
      "outputs": [],
      "source": [
        "import librosa.display\n",
        "fig, ax = plt.subplots()\n",
        "\n",
        "S_db = extract_single_feature(file_name=\"saved/temp.wav\", spectogram=True, axis_=0)\n",
        "\n",
        "img = librosa.display.specshow(S_db, x_axis='time', y_axis='linear', ax=ax)\n",
        "ax.set(title='Spectogram')\n",
        "fig.colorbar(img, ax=ax, format=\"%+2.f dB\")"
      ]
    },
    {
      "cell_type": "code",
      "execution_count": null,
      "metadata": {
        "id": "ZgjouXn0PmXR"
      },
      "outputs": [],
      "source": [
        "fig, ax = plt.subplots()\n",
        "\n",
        "S = extract_single_feature(file_name=\"saved/temp.wav\", mel=True, axis_=0)\n",
        "\n",
        "S_dB = librosa.power_to_db(S, ref=np.max)\n",
        "img = librosa.display.specshow(S_dB, x_axis='time',\n",
        "                         y_axis='mel', sr=sr,\n",
        "                         fmax=8000, ax=ax)\n",
        "fig.colorbar(img, ax=ax, format='%+2.0f dB')\n",
        "ax.set(title='Mel-frequency spectrogram')"
      ]
    },
    {
      "cell_type": "code",
      "execution_count": null,
      "metadata": {
        "id": "l3JFNj1pDiJA"
      },
      "outputs": [],
      "source": [
        "fig, ax = plt.subplots()\n",
        "\n",
        "mfcc_to_plot = extract_single_feature(file_name=\"saved/temp.wav\", mfcc=True, axis_=0)\n",
        "\n",
        "img = librosa.display.specshow(mfcc_to_plot, x_axis='time', ax=ax)\n",
        "fig.colorbar(img, ax=ax)\n",
        "ax.set(title='MFCC')"
      ]
    },
    {
      "cell_type": "code",
      "execution_count": null,
      "metadata": {
        "id": "x5hEv02qQ1G6"
      },
      "outputs": [],
      "source": [
        "fig, ax = plt.subplots()\n",
        "\n",
        "chroma_to_plot = extract_single_feature(file_name=\"saved/temp.wav\", chroma=True, axis_=0)\n",
        "\n",
        "img = librosa.display.specshow(chroma_to_plot, y_axis='chroma', x_axis='time', ax=ax)\n",
        "fig.colorbar(img, ax=ax)\n",
        "ax.set(title='Chromagram')"
      ]
    }
  ],
  "metadata": {
    "accelerator": "GPU",
    "colab": {
      "collapsed_sections": [],
      "name": "Urdu_Speech_Emotion_Detection.ipynb",
      "provenance": []
    },
    "kernelspec": {
      "display_name": "Python 3",
      "name": "python3"
    },
    "language_info": {
      "codemirror_mode": {
        "name": "ipython",
        "version": 3
      },
      "file_extension": ".py",
      "mimetype": "text/x-python",
      "name": "python",
      "nbconvert_exporter": "python",
      "pygments_lexer": "ipython3",
      "version": "3.7.9"
    }
  },
  "nbformat": 4,
  "nbformat_minor": 0
}
